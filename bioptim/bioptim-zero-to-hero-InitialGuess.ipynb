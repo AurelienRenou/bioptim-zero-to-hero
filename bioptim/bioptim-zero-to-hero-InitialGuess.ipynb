{
 "cells": [
  {
   "cell_type": "markdown",
   "id": "ff76ba97-a923-487a-b8bb-ab86d848fdda",
   "metadata": {},
   "source": [
    "# bioptim #1 - InitialGuess"
   ]
  },
  {
   "cell_type": "markdown",
   "id": "e3e2b734-cc22-4dc6-ba1f-8bc60985980f",
   "metadata": {},
   "source": [
    "This tutorial is a trivial example on how to manage InitialGuess with bioptim. It is designed to show how one can change the InitialGuess of a problem if it's needed.\n",
    "InitialGuess allow the problem to start the calculation at a certain point, the goal is to make this initialGuess as near as possible to the real point.\n",
    "\n",
    "In our example, we will use the musculoskeletal model illustrated just below."
   ]
  },
  {
   "cell_type": "markdown",
   "id": "b4ead47a-a2a5-4402-bd59-a5cfa84bc5ad",
   "metadata": {},
   "source": [
    "<p style=\"text-align: center;\">\n",
    "<img src=\"../doc/wu_model_pic.png\" width=\"400\" height=\"400\" /></p>"
   ]
  },
  {
   "cell_type": "markdown",
   "id": "44e068c1-78cb-4354-a5af-f470361a2cfe",
   "metadata": {},
   "source": [
    "First, import librairies and the InitialGuess Class:"
   ]
  },
  {
   "cell_type": "code",
   "execution_count": null,
   "id": "52b4b1dd-5988-4f2a-8785-3ce17f1e1f2b",
   "metadata": {},
   "outputs": [],
   "source": [
    "import biorbd_casadi as biorbd\n",
    "from bioptim import InitialGuess"
   ]
  },
  {
   "cell_type": "markdown",
   "id": "1bc4685c-9733-416b-9163-e2cc70076fb0",
   "metadata": {},
   "source": [
    "Then, we load the model :"
   ]
  },
  {
   "cell_type": "code",
   "execution_count": null,
   "id": "e5555093-d41d-4b79-b5ac-dc3543e60294",
   "metadata": {},
   "outputs": [],
   "source": [
    "model_name = \"../models/wu_converted_definitif.bioMod\"\n",
    "\n",
    "# giving the path\n",
    "biorbd_model = biorbd.Model(model_name)"
   ]
  },
  {
   "cell_type": "markdown",
   "id": "1c975d46-53e8-4be7-8105-7ed7c1dfcbfa",
   "metadata": {},
   "source": [
    "The InitialGuess allow us to define the initial values of degrees of freedom of our model. The most simple problem is a torque driven problem which inculdes states and controls. Controls are denoted by $\\boldsymbol{u}$ and contains torques. States are denoted by $\\boldsymbol{x}$ and contains generalized coordinates $\\boldsymbol{q}$ and generalized velocities $\\boldsymbol{\\dot{q}}$ .\n",
    "\n",
    "In this example, all initial guesses are initialized to 0.\n"
   ]
  },
  {
   "cell_type": "code",
   "execution_count": 17,
   "id": "9bb4da6c-24b3-4220-a645-6631544de45d",
   "metadata": {},
   "outputs": [
    {
     "data": {
      "text/plain": [
       "<InterpolationType.CONSTANT: 0>"
      ]
     },
     "execution_count": 17,
     "metadata": {},
     "output_type": "execute_result"
    }
   ],
   "source": [
    "# State Initial Guess\n",
    "n_q = biorbd_model.nbQ()\n",
    "n_qdot = biorbd_model.nbQdot()\n",
    "x_init = InitialGuess([0] * (n_q + n_qdot))\n",
    "\n",
    "# Control initial guess\n",
    "n_tau = biorbd_model.nbGeneralizedTorque() # We get the number of torque in our model\n",
    "u_init = InitialGuess([0] * n_tau)\n",
    "\n",
    "#decription \n",
    "x_init.init # valeurs nbq +nbqdot\n",
    "x_init.type"
   ]
  },
  {
   "cell_type": "markdown",
   "id": "11f381ee-9c29-4d72-b727-4291cb8e6965",
   "metadata": {},
   "source": [
    "But we can choose to give differente initial value to different degrees of freedom.\n",
    "\n",
    "So we define some values and create a empty list of InitialGuess thanks to InitialGuessList()"
   ]
  },
  {
   "cell_type": "code",
   "execution_count": 18,
   "id": "3f81b301-e061-4a3c-865d-ed8598bab8f2",
   "metadata": {},
   "outputs": [],
   "source": [
    "dof0 = 1 # we give the value to the different dof\n",
    "dof1 = 0.005\n",
    "dof25 = 2"
   ]
  },
  {
   "cell_type": "markdown",
   "id": "a40a9f26-2db7-4cf3-b985-276916469f9f",
   "metadata": {},
   "source": [
    "And we add this values to the list."
   ]
  },
  {
   "cell_type": "code",
   "execution_count": 16,
   "id": "ffc44036-74b9-41b5-ae63-bda40cd967c8",
   "metadata": {},
   "outputs": [
    {
     "ename": "NameError",
     "evalue": "name 'dof0' is not defined",
     "output_type": "error",
     "traceback": [
      "\u001b[1;31m---------------------------------------------------------------------------\u001b[0m",
      "\u001b[1;31mNameError\u001b[0m                                 Traceback (most recent call last)",
      "Input \u001b[1;32mIn [16]\u001b[0m, in \u001b[0;36m<cell line: 2>\u001b[1;34m()\u001b[0m\n\u001b[0;32m      1\u001b[0m x_init_list \u001b[38;5;241m=\u001b[39m [\u001b[38;5;241m0\u001b[39m] \u001b[38;5;241m*\u001b[39m (biorbd_model\u001b[38;5;241m.\u001b[39mnbQ() \u001b[38;5;241m+\u001b[39m biorbd_model\u001b[38;5;241m.\u001b[39mnbQdot()) \u001b[38;5;66;03m# We created a list of 0 that will become the InitialGuessList\u001b[39;00m\n\u001b[1;32m----> 2\u001b[0m x_init_list[\u001b[38;5;241m0\u001b[39m:\u001b[38;5;241m2\u001b[39m] \u001b[38;5;241m=\u001b[39m [\u001b[43mdof0\u001b[49m, dof1]\n\u001b[0;32m      3\u001b[0m x_init_list[\u001b[38;5;241m25\u001b[39m] \u001b[38;5;241m=\u001b[39m dof25\n\u001b[0;32m      5\u001b[0m \u001b[38;5;28mprint\u001b[39m(x_init_list)\n",
      "\u001b[1;31mNameError\u001b[0m: name 'dof0' is not defined"
     ]
    }
   ],
   "source": [
    "x_init_list = [0] * (biorbd_model.nbQ() + biorbd_model.nbQdot()) # We created a list of 0 that will become the InitialGuessList\n",
    "x_init_list[0:2] = [dof0, dof1]\n",
    "x_init_list[25] = dof25\n",
    "\n",
    "print(x_init_list)\n",
    "\n",
    "x_init = InitialGuess(x_init_list) \n",
    "\n",
    "# x_init.add(x_init_list) # Finally we merged the two list to fill the InitialGessList"
   ]
  },
  {
   "cell_type": "markdown",
   "id": "68dcb1b7-46fe-4f27-b489-53e6a11d7ce7",
   "metadata": {},
   "source": [
    "That what we've done for the states, we can do the same for the control."
   ]
  },
  {
   "cell_type": "code",
   "execution_count": 56,
   "id": "29e022e1-f6f5-49bd-a954-7a0bd94c6549",
   "metadata": {},
   "outputs": [],
   "source": []
  },
  {
   "cell_type": "markdown",
   "id": "2c041743-8458-4e40-916a-4260faa6f9cb",
   "metadata": {},
   "source": [
    "As Before, we can choose which control intial value we want to change."
   ]
  },
  {
   "cell_type": "code",
   "execution_count": 64,
   "id": "f30ec498-e96a-4472-a2db-614912610685",
   "metadata": {},
   "outputs": [
    {
     "name": "stdout",
     "output_type": "stream",
     "text": [
      "[0, 0, 0, 0, 0, 0, 0, 0, 0, 0, 0, 0, 0, 0, 0, 0, 0]\n",
      "[100, 200, 0, 0, 0, 0, 0, 0, 0, 0, 0, 0, 0, 0, 0, 0, 0]\n",
      "[100, 200, 0, 0, 0, 0, 0, 0, 0, 0, 0, -300, 0, 0, 0, 0, 0]\n"
     ]
    }
   ],
   "source": [
    "# Define control path constraint\n",
    "n_tau = biorbd_model.nbGeneralizedTorque()\n",
    "tau_min, tau_max, tau_init = -200, 200, 0 \n",
    "\n",
    "u_init = InitialGuessList()\n",
    "\n",
    "control1 = 100 \n",
    "control2 = 200\n",
    "control12 = -300\n",
    "\n",
    "u_init_list = ([tau_init] * n_tau)\n",
    "print(u_init_list)\n",
    "\n",
    "u_init_list[0:2] = [control1, control2]\n",
    "print(u_init_list)\n",
    "\n",
    "u_init_list[11:12] = [control12] \n",
    "print(u_init_list)\n",
    "\n",
    "u_init.add(u_init_list)"
   ]
  },
  {
   "cell_type": "markdown",
   "id": "3db7b475-d8a0-4315-b985-1d03198d9749",
   "metadata": {},
   "source": [
    "## Do It Yourself \n",
    "\n",
    "Now that you saw an example, let's apply what you learn on an other example. You have to change the following InitialGuess"
   ]
  },
  {
   "cell_type": "code",
   "execution_count": null,
   "id": "c23a50c3-72ab-48ca-b23a-cd6c5483e6a3",
   "metadata": {},
   "outputs": [],
   "source": [
    "# Complet the following line\n",
    "# We want to change states 5, 8 and 9\n",
    "\n",
    "# Initial guess\n",
    "n_q = biorbd_model.nbQ()\n",
    "n_qdot = biorbd_model.nbQdot()\n",
    "\n",
    "x_init = ... () # we created x_init as a list of InitialGuess that is initially empty\n",
    "\n",
    "dof5 = 1 \n",
    "dof8 = 0.005\n",
    "dof9 = 2\n",
    "\n",
    "x_init_list = [0] * (... + ...) # We created a list of 0 that will become the InitialGuessList\n",
    "print(x_init_list)\n",
    "\n",
    "x_init_list[...] = [...] # Add dof5\n",
    "print(x_init_list)\n",
    "\n",
    "x_init_list[...] = [...] # Add dof8 and 9\n",
    "print(x_init_list)\n",
    "\n",
    "x_init.add(...) # Finally we merged the two list to fill the InitialGessList"
   ]
  },
  {
   "cell_type": "markdown",
   "id": "da807fcd-f7db-4bd8-adde-6ce02044808e",
   "metadata": {},
   "source": [
    "# Considering a multiphase ocp \n",
    "We will now use InitialGuessList to have different InitialGuess for each phases"
   ]
  },
  {
   "cell_type": "code",
   "execution_count": null,
   "id": "2044618d-9d5c-4cc8-9823-5255b4979078",
   "metadata": {},
   "outputs": [],
   "source": []
  },
  {
   "cell_type": "markdown",
   "id": "b13c6dde-85e4-492a-8cee-ea80eac80a1c",
   "metadata": {},
   "source": [
    "# Congratulation! You went from zero to hero in the understanding of InitialGuess !"
   ]
  }
 ],
 "metadata": {
  "kernelspec": {
   "display_name": "Python 3 (ipykernel)",
   "language": "python",
   "name": "python3"
  },
  "language_info": {
   "codemirror_mode": {
    "name": "ipython",
    "version": 3
   },
   "file_extension": ".py",
   "mimetype": "text/x-python",
   "name": "python",
   "nbconvert_exporter": "python",
   "pygments_lexer": "ipython3",
   "version": "3.10.2"
  }
 },
 "nbformat": 4,
 "nbformat_minor": 5
}
