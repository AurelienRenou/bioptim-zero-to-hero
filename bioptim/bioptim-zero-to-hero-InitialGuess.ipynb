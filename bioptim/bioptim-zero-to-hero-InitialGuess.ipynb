{
 "cells": [
  {
   "cell_type": "markdown",
   "id": "ff76ba97-a923-487a-b8bb-ab86d848fdda",
   "metadata": {},
   "source": [
    "# bioptim #1 - InitialGuess"
   ]
  },
  {
   "cell_type": "markdown",
   "id": "e3e2b734-cc22-4dc6-ba1f-8bc60985980f",
   "metadata": {},
   "source": [
    "This tutorial is a trivial example on how to manage InitialGuess with bioptim. It is designed to show how one can change the InitialGuess of a problem if it's needed.\n",
    "InitialGuess allow the problem to start the calculation at a certain point, the goal is to make this initialGuess as near as possible to the real point.\n",
    "\n",
    "In our example, we will use the musculoskeletal model illustrated just below."
   ]
  },
  {
   "cell_type": "markdown",
   "id": "b4ead47a-a2a5-4402-bd59-a5cfa84bc5ad",
   "metadata": {},
   "source": [
    "<p style=\"text-align: center;\">\n",
    "<img src=\"../doc/wu_model_pic.png\" width=\"400\" height=\"400\" /></p>"
   ]
  },
  {
   "cell_type": "markdown",
   "id": "44e068c1-78cb-4354-a5af-f470361a2cfe",
   "metadata": {},
   "source": [
    "First, import librairies and the InitialGuess Class:"
   ]
  },
  {
   "cell_type": "code",
   "execution_count": null,
   "id": "52b4b1dd-5988-4f2a-8785-3ce17f1e1f2b",
   "metadata": {},
   "outputs": [],
   "source": [
    "import biorbd_casadi as biorbd\n",
    "from bioptim import InitialGuess"
   ]
  },
  {
   "cell_type": "markdown",
   "id": "1bc4685c-9733-416b-9163-e2cc70076fb0",
   "metadata": {},
   "source": [
    "Then, we load the model :"
   ]
  },
  {
   "cell_type": "code",
   "execution_count": null,
   "id": "e5555093-d41d-4b79-b5ac-dc3543e60294",
   "metadata": {},
   "outputs": [],
   "source": [
    "model_name = \"../models/wu_converted_definitif.bioMod\"\n",
    "\n",
    "# giving the path\n",
    "biorbd_model = biorbd.Model(model_name)"
   ]
  },
  {
   "cell_type": "markdown",
   "id": "1c975d46-53e8-4be7-8105-7ed7c1dfcbfa",
   "metadata": {},
   "source": [
    "The InitialGuess allow us to define the initial values of degrees of freedom of our model. The most simple problem is a torque driven problem which inculdes states and controls. Controls are denoted by $\\boldsymbol{u}$ and contains torques. States are denoted by $\\boldsymbol{x}$ and contains generalized coordinates $\\boldsymbol{q}$ and generalized velocities $\\boldsymbol{\\dot{q}}$ .\n",
    "\n",
    "In this example, all initial guesses are initialized to 0.\n"
   ]
  },
  {
   "cell_type": "code",
   "execution_count": 19,
   "id": "9bb4da6c-24b3-4220-a645-6631544de45d",
   "metadata": {},
   "outputs": [],
   "source": [
    "# State Initial Guess\n",
    "n_q = biorbd_model.nbQ()\n",
    "n_qdot = biorbd_model.nbQdot()\n",
    "x_init = InitialGuess([0] * (n_q + n_qdot))\n",
    "\n",
    "# Control initial guess\n",
    "n_tau = biorbd_model.nbGeneralizedTorque() # We get the number of torque in our model\n",
    "u_init = InitialGuess([0] * n_tau)"
   ]
  },
  {
   "cell_type": "markdown",
   "id": "251d8168-7e8e-453c-b235-eb736339bc90",
   "metadata": {},
   "source": [
    "An InitialGuess object has two symbol, init and type.\n",
    "\n",
    "init correspond to the initial values of generalized coordinates and generalized velocities, and the type describe the behavior of this values. \n",
    "\n",
    "Here, the type is constant and the initial values are 0, so it means that during the phase, the values will stay at 0."
   ]
  },
  {
   "cell_type": "code",
   "execution_count": 22,
   "id": "707f224b-51c0-4331-83ce-dd0de3b49b7c",
   "metadata": {},
   "outputs": [
    {
     "data": {
      "text/plain": [
       "PathCondition([[0.],\n",
       "               [0.],\n",
       "               [0.],\n",
       "               [0.],\n",
       "               [0.],\n",
       "               [0.],\n",
       "               [0.],\n",
       "               [0.],\n",
       "               [0.],\n",
       "               [0.],\n",
       "               [0.],\n",
       "               [0.],\n",
       "               [0.],\n",
       "               [0.],\n",
       "               [0.],\n",
       "               [0.],\n",
       "               [0.],\n",
       "               [0.],\n",
       "               [0.],\n",
       "               [0.],\n",
       "               [0.],\n",
       "               [0.],\n",
       "               [0.],\n",
       "               [0.],\n",
       "               [0.],\n",
       "               [0.],\n",
       "               [0.],\n",
       "               [0.],\n",
       "               [0.],\n",
       "               [0.],\n",
       "               [0.],\n",
       "               [0.],\n",
       "               [0.],\n",
       "               [0.]])"
      ]
     },
     "execution_count": 22,
     "metadata": {},
     "output_type": "execute_result"
    }
   ],
   "source": [
    "x_init.init "
   ]
  },
  {
   "cell_type": "code",
   "execution_count": 23,
   "id": "bf8cb7c4-624c-4156-a2e5-0e4263effc61",
   "metadata": {},
   "outputs": [
    {
     "data": {
      "text/plain": [
       "<InterpolationType.CONSTANT: 0>"
      ]
     },
     "execution_count": 23,
     "metadata": {},
     "output_type": "execute_result"
    }
   ],
   "source": [
    "x_init.type"
   ]
  },
  {
   "cell_type": "markdown",
   "id": "11f381ee-9c29-4d72-b727-4291cb8e6965",
   "metadata": {},
   "source": [
    "But we can choose to give differente initial value to different degrees of freedom or to control.\n",
    "\n",
    "So we define some values."
   ]
  },
  {
   "cell_type": "code",
   "execution_count": 29,
   "id": "3f81b301-e061-4a3c-865d-ed8598bab8f2",
   "metadata": {},
   "outputs": [],
   "source": [
    "dof0 = 1 # we give the value to the different dof\n",
    "dof1 = 0.005\n",
    "dof25 = 2\n",
    "\n",
    "control0 = 100 \n",
    "control1 = 200\n",
    "control11 = -300"
   ]
  },
  {
   "cell_type": "markdown",
   "id": "a40a9f26-2db7-4cf3-b985-276916469f9f",
   "metadata": {},
   "source": [
    "And we add this values to the list."
   ]
  },
  {
   "cell_type": "code",
   "execution_count": 30,
   "id": "ffc44036-74b9-41b5-ae63-bda40cd967c8",
   "metadata": {},
   "outputs": [
    {
     "name": "stdout",
     "output_type": "stream",
     "text": [
      "x_init [1, 0.005, 0, 0, 0, 0, 0, 0, 0, 0, 0, 0, 0, 0, 0, 0, 0, 0, 0, 0, 0, 0, 0, 0, 0, 2, 0, 0, 0, 0, 0, 0, 0, 0]\n",
      "u_init [100, 200, 0, 0, 0, 0, 0, 0, 0, 0, 0, -300, 0, 0, 0, 0, 0]\n"
     ]
    }
   ],
   "source": [
    "x_init_list = [0] * (biorbd_model.nbQ() + biorbd_model.nbQdot()) # We created a list of 0 that will become the InitialGuessList\n",
    "x_init_list[0:2] = [dof0, dof1]\n",
    "x_init_list[25] = dof25\n",
    "\n",
    "print(\"x_init\",x_init_list)\n",
    "\n",
    "x_init = InitialGuess(x_init_list) \n",
    "\n",
    "u_init_list = ([0] * n_tau)\n",
    "u_init_list[0:2] = [control0, control1]\n",
    "u_init_list[11:12] = [control11]\n",
    "\n",
    "print(\"u_init\",u_init_list)\n",
    "\n",
    "u_init = InitialGuess(u_init_list) "
   ]
  },
  {
   "cell_type": "markdown",
   "id": "3db7b475-d8a0-4315-b985-1d03198d9749",
   "metadata": {},
   "source": [
    "## Do It Yourself \n",
    "\n",
    "Now that you saw an example, let's apply what you learn on an other example. You have to change the following InitialGuess"
   ]
  },
  {
   "cell_type": "code",
   "execution_count": null,
   "id": "c23a50c3-72ab-48ca-b23a-cd6c5483e6a3",
   "metadata": {},
   "outputs": [],
   "source": [
    "# Complet the following line\n",
    "# We want to change states 5, 8 and 9\n",
    "\n",
    "# Initial guess\n",
    "n_q = biorbd_model.nbQ()\n",
    "n_qdot = biorbd_model.nbQdot()\n",
    "\n",
    "x_init = ... () # we created x_init as a list of InitialGuess that is initially empty\n",
    "\n",
    "dof5 = 1 \n",
    "dof8 = 0.005\n",
    "dof9 = 2\n",
    "\n",
    "x_init_list = [0] * (... + ...) # We created a list of 0 that will become the InitialGuessList\n",
    "print(x_init_list)\n",
    "\n",
    "x_init_list[...] = [...] # Add dof5\n",
    "print(x_init_list)\n",
    "\n",
    "x_init_list[...] = [...] # Add dof8 and 9\n",
    "print(x_init_list)\n",
    "\n",
    "x_init.add(...) # Finally we merged the two list to fill the InitialGessList"
   ]
  },
  {
   "cell_type": "markdown",
   "id": "da807fcd-f7db-4bd8-adde-6ce02044808e",
   "metadata": {},
   "source": [
    "# Considering a multiphase ocp \n",
    "We will now use InitialGuessList to have different InitialGuess for each phases"
   ]
  },
  {
   "cell_type": "code",
   "execution_count": null,
   "id": "2044618d-9d5c-4cc8-9823-5255b4979078",
   "metadata": {},
   "outputs": [],
   "source": []
  },
  {
   "cell_type": "markdown",
   "id": "b13c6dde-85e4-492a-8cee-ea80eac80a1c",
   "metadata": {},
   "source": [
    "# Congratulation! You went from zero to hero in the understanding of InitialGuess !"
   ]
  }
 ],
 "metadata": {
  "kernelspec": {
   "display_name": "Python 3 (ipykernel)",
   "language": "python",
   "name": "python3"
  },
  "language_info": {
   "codemirror_mode": {
    "name": "ipython",
    "version": 3
   },
   "file_extension": ".py",
   "mimetype": "text/x-python",
   "name": "python",
   "nbconvert_exporter": "python",
   "pygments_lexer": "ipython3",
   "version": "3.10.2"
  }
 },
 "nbformat": 4,
 "nbformat_minor": 5
}
