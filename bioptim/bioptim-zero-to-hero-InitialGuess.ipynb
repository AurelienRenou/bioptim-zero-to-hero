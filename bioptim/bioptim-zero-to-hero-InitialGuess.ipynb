{
 "cells": [
  {
   "cell_type": "markdown",
   "id": "ff76ba97-a923-487a-b8bb-ab86d848fdda",
   "metadata": {},
   "source": [
    "# bioptim #1 - InitialGuess"
   ]
  },
  {
   "cell_type": "markdown",
   "id": "e3e2b734-cc22-4dc6-ba1f-8bc60985980f",
   "metadata": {},
   "source": []
  }
 ],
 "metadata": {
  "kernelspec": {
   "display_name": "Python 3",
   "language": "python",
   "name": "python3"
  },
  "language_info": {
   "codemirror_mode": {
    "name": "ipython",
    "version": 3
   },
   "file_extension": ".py",
   "mimetype": "text/x-python",
   "name": "python",
   "nbconvert_exporter": "python",
   "pygments_lexer": "ipython3",
   "version": "3.9.12"
  }
 },
 "nbformat": 4,
 "nbformat_minor": 5
}
